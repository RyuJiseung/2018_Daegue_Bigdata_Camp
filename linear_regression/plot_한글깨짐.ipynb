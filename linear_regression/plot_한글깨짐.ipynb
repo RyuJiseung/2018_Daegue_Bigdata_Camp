{
 "cells": [
  {
   "cell_type": "code",
   "execution_count": 3,
   "metadata": {},
   "outputs": [],
   "source": [
    "import pandas as pd\n",
    "from sklearn import datasets, linear_model\n",
    "import statsmodels.formula.api as sm\n",
    "from statsmodels.sandbox.regression.predstd import wls_prediction_std\n",
    "import matplotlib.pyplot as plt\n",
    "import matplotlib as mpl\n",
    "import matplotlib.font_manager as fm\n",
    "import seaborn as sns\n",
    "from seaborn.linearmodels import corrplot,symmatplot\n",
    "import numpy as np\n",
    "import os\n",
    "import math\n",
    "\n",
    "%matplotlib inline"
   ]
  },
  {
   "cell_type": "code",
   "execution_count": 4,
   "metadata": {},
   "outputs": [
    {
     "name": "stdout",
     "output_type": "stream",
     "text": [
      "# 설정 되어있는 폰트 사이즈\n",
      "10.0\n",
      "# 설정 되어있는 폰트 글꼴\n",
      "['sans-serif']\n",
      "버전:  2.0.2\n",
      "설치 위치:  /Users/jinseokryu/anaconda/envs/tensorflow/lib/python3.5/site-packages/matplotlib/__init__.py\n",
      "설정 위치:  /Users/jinseokryu/.matplotlib\n",
      "캐시 위치:  /Users/jinseokryu/.matplotlib\n",
      "설정파일 위치:  /Users/jinseokryu/anaconda/envs/tensorflow/lib/python3.5/site-packages/matplotlib/mpl-data/matplotlibrc\n",
      "[('NanumSquareRound', '/Users/jinseokryu/anaconda/envs/tensorflow/lib/python3.5/site-packages/matplotlib/mpl-data/fonts/ttf/NanumSquareRoundEB.ttf'), ('NanumBarunGothic', '/Users/jinseokryu/anaconda/envs/tensorflow/lib/python3.5/site-packages/matplotlib/mpl-data/fonts/ttf/NanumBarunGothic.ttf'), ('NanumBarunpen', '/Users/jinseokryu/anaconda/envs/tensorflow/lib/python3.5/site-packages/matplotlib/mpl-data/fonts/ttf/NanumBarunpenBold.ttf'), ('NanumSquareRound', '/Users/jinseokryu/anaconda/envs/tensorflow/lib/python3.5/site-packages/matplotlib/mpl-data/fonts/ttf/NanumSquareRoundR.ttf')]\n"
     ]
    }
   ],
   "source": [
    "# 한글 폰트 깨질 경우\n",
    "\n",
    "# size, family\n",
    "print('# 설정 되어있는 폰트 사이즈')\n",
    "print (plt.rcParams['font.size'] ) \n",
    "print('# 설정 되어있는 폰트 글꼴')\n",
    "print (plt.rcParams['font.family'] )\n",
    "\n",
    "# 그래프에서 마이너스 폰트 깨지는 문제에 대한 대처\n",
    "mpl.rcParams['axes.unicode_minus'] = False\n",
    "\n",
    "print ('버전: ', mpl.__version__)\n",
    "print ('설치 위치: ', mpl.__file__)\n",
    "print ('설정 위치: ', mpl.get_configdir())\n",
    "print ('캐시 위치: ', mpl.get_cachedir())\n",
    "\n",
    "print ('설정파일 위치: ', mpl.matplotlib_fname())\n",
    "\n",
    "# font_list = fm.findSystemFonts(fontpaths=None, fontext='ttf')\n",
    "\n",
    "# ttf 폰트 전체갯수\n",
    "# print(len(font_list)) \n",
    "\n",
    "# OSX 의 설치 된 폰트를 가져오는 함수\n",
    "# font_list_mac = fm.OSXInstalledFonts()\n",
    "# print(len(font_list_mac))\n",
    "\n",
    "# 시스템 폰트에서 읽어온 리스트에서 상위 10개만 출력\n",
    "# font_list[:10] \n",
    "\n",
    "# f = [f.name for f in fm.fontManager.ttflist]\n",
    "# print(len(font_list))\n",
    "# 10개의 폰트명 만 출력\n",
    "# f\n",
    "\n",
    "\n",
    "# 나눔글꼴 다운\n",
    "# windows : http://xinsound.tistory.com/930\n",
    "# mac : http://hellowrd.tistory.com/104\n",
    "\n",
    "# 나눔글꼴 설정\n",
    "# http://corazzon.github.io/matplotlib_font_setting\n",
    "\n",
    "print([(f.name, f.fname) for f in fm.fontManager.ttflist if 'Nanum' in f.name][1:5])\n",
    "\n",
    "#### 1. matplotlib.rcParams[]으로 전역글꼴 설정 ####\n",
    "plt.rcParams[\"font.family\"] = 'NanumGothic'"
   ]
  },
  {
   "cell_type": "code",
   "execution_count": null,
   "metadata": {},
   "outputs": [],
   "source": []
  }
 ],
 "metadata": {
  "kernelspec": {
   "display_name": "Python 3",
   "language": "python",
   "name": "python3"
  },
  "language_info": {
   "name": ""
  }
 },
 "nbformat": 4,
 "nbformat_minor": 2
}
